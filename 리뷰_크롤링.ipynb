{
 "cells": [
  {
   "cell_type": "markdown",
   "id": "2fee7787",
   "metadata": {},
   "source": [
    "## import"
   ]
  },
  {
   "cell_type": "code",
   "execution_count": 1,
   "id": "0c56174b",
   "metadata": {},
   "outputs": [],
   "source": [
    "from selenium.webdriver.common.keys import Keys\n",
    "from selenium import webdriver\n",
    "from selenium.webdriver.common.by import By\n",
    "from urllib.parse import quote\n",
    "from selenium.webdriver.chrome.options import Options\n",
    "from bs4 import BeautifulSoup\n",
    "import time\n",
    "from selenium.common.exceptions import NoSuchElementException\n",
    "from selenium.webdriver.support.ui import WebDriverWait\n",
    "from selenium.webdriver.support import expected_conditions as EC\n",
    "\n",
    "\n",
    "driver = webdriver.Chrome()\n",
    "\n",
    "#keyword = '최강배달꾼'"
   ]
  },
  {
   "cell_type": "code",
   "execution_count": 2,
   "id": "186f5a13",
   "metadata": {},
   "outputs": [],
   "source": [
    "import pandas as pd"
   ]
  },
  {
   "cell_type": "markdown",
   "id": "3022b316",
   "metadata": {},
   "source": [
    "## 데이터"
   ]
  },
  {
   "cell_type": "code",
   "execution_count": 3,
   "id": "d9be0b84",
   "metadata": {},
   "outputs": [],
   "source": [
    "title_list = pd.read_csv('./title_list.csv')"
   ]
  },
  {
   "cell_type": "code",
   "execution_count": 4,
   "id": "dce2378e",
   "metadata": {},
   "outputs": [],
   "source": [
    "title_list = title_list[['index', 'asset_nm_new']]"
   ]
  },
  {
   "cell_type": "code",
   "execution_count": 5,
   "id": "a7db0f35",
   "metadata": {},
   "outputs": [],
   "source": [
    "title_list = title_list[title_list['index'] <= 241]"
   ]
  },
  {
   "cell_type": "code",
   "execution_count": 6,
   "id": "ebc97bfc",
   "metadata": {},
   "outputs": [
    {
     "name": "stdout",
     "output_type": "stream",
     "text": [
      "242\n",
      "<class 'pandas.core.frame.DataFrame'>\n"
     ]
    }
   ],
   "source": [
    "print(len(title_list))\n",
    "print(type(title_list))"
   ]
  },
  {
   "cell_type": "code",
   "execution_count": 7,
   "id": "090d0d8c",
   "metadata": {},
   "outputs": [],
   "source": [
    "def web_data(keyword):\n",
    "    \n",
    "    driver = webdriver.Chrome()\n",
    "    \n",
    "    # Watcha 검색 페이지로 이동\n",
    "    search_url = f'https://pedia.watcha.com/ko-KR/search?query={keyword}'\n",
    "    driver.get(search_url)\n",
    "    \n",
    "    print('진행중 : ', keyword)\n",
    "\n",
    "    # 검색 결과 중에서 특정 부분 클릭 (예: 첫 번째 검색 결과 클릭)\n",
    "    try:\n",
    "        main_xpath = '//*[@id=\"root\"]/div/div[1]/section/section/div[3]/div[1]/section/section[2]/div/div[1]/div/ul/li/a/div[1]/div[1]/img'\n",
    "        driver.find_element(By.XPATH, main_xpath).click()\n",
    "\n",
    "        # 페이지가 로딩될 때까지 잠시 기다림 (시간은 상황에 따라 조절)\n",
    "        time.sleep(2)\n",
    "\n",
    "        # 더보기 클릭\n",
    "        more_xpath = '//*[@id=\"root\"]/div/div[1]/section/div/div[2]/div/div[2]/section[2]/header/div/div/a'\n",
    "        driver.get(driver.find_element(By.XPATH, more_xpath).get_attribute(\"href\"))\n",
    "\n",
    "        # 페이지가 로딩될 때까지 잠시 기다림 (시간은 상황에 따라 조절)\n",
    "        time.sleep(2)\n",
    "\n",
    "        # 리뷰 부분의 요소를 찾습니다.\n",
    "        review_xpath = '//*[@id=\"root\"]/div/div[1]/section/section/div/div/div/ul/div[1]/div[2]/a/div/span'\n",
    "        review = WebDriverWait(driver, 10).until(EC.element_to_be_clickable((By.XPATH, review_xpath)))\n",
    "\n",
    "        # 스크롤 다운을 통해 추가 리뷰를 로드\n",
    "        pagedowns = 10\n",
    "        while pagedowns:\n",
    "            driver.execute_script(\"window.scrollTo(0, document.body.scrollHeight);\")\n",
    "            time.sleep(0.1)\n",
    "            pagedowns -= 1\n",
    "\n",
    "        html = BeautifulSoup(driver.page_source, 'html.parser')\n",
    "        #print(html)\n",
    "\n",
    "        # 리뷰를 담고 있는 요소들을 찾기\n",
    "        review_elements = html.select('#root > div > div.css-126e3ta-NavContainer.ed8qmey1 > section > section')\n",
    "\n",
    "        # 각 리뷰의 텍스트를 저장\n",
    "        output_list = []\n",
    "        for review_element in review_elements:\n",
    "            for child in range(1, 31):\n",
    "                try:\n",
    "                    review_text = review_element.select_one('#root > div > div.css-126e3ta-NavContainer.ed8qmey1 > section > section > div > div > div > ul > div:nth-child(' + str(child) + ') > div.css-2occzs.egj9y8a1 > a > div > span').get_text(strip=True)\n",
    "                    #print(f'Review: {review_text}')\n",
    "                    output_list.append(review_text + '###!!!')\n",
    "                except:\n",
    "                    pass\n",
    "    \n",
    "    # 리뷰가 없거나 검색 결과가 없는 등의 예외 상황이 발생할 때의 처리      \n",
    "    except:\n",
    "        output_list = ['No']\n",
    "        pass\n",
    "\n",
    "    # 창 닫기\n",
    "    driver.quit()\n",
    "\n",
    "    # 모은 리뷰를 텍스트 파일로 저장\n",
    "    output_file = open('./review files/' + keyword + '.txt', 'w', encoding = 'utf8')\n",
    "    for item in output_list:\n",
    "        output_file.write(item)\n",
    "\n",
    "    # 파일 close\n",
    "    output_file.close()\n",
    "\n"
   ]
  },
  {
   "cell_type": "code",
   "execution_count": null,
   "id": "e394720a",
   "metadata": {},
   "outputs": [],
   "source": [
    "# 제목에 특수 기호가 들어가면 파일 이름으로 사용하지 못하므로 이를 대체해서 저장하고 후에 복구\n",
    "title_list['asset_nm_new'] = title_list['asset_nm_new'].str.replace('?', '...')"
   ]
  },
  {
   "cell_type": "code",
   "execution_count": 15,
   "id": "d3e66894",
   "metadata": {},
   "outputs": [
    {
     "name": "stdout",
     "output_type": "stream",
     "text": [
      "진행중 :  거미입니다만문제라도...\n",
      "진행중 :  범죄도시2\n",
      "진행중 :  체리툰\n",
      "진행중 :  베이비버스인기동요시즌4\n",
      "진행중 :  먹놀잠프로젝트\n",
      "진행중 :  봉신방\n"
     ]
    }
   ],
   "source": [
    "# 데이터 크롤링 수행\n",
    "title_data = title_list[236:]\n",
    "for _, title_ in title_data.iterrows():\n",
    "    web_data(title_['asset_nm_new'])"
   ]
  },
  {
   "cell_type": "code",
   "execution_count": 14,
   "id": "6b510cee",
   "metadata": {},
   "outputs": [
    {
     "data": {
      "text/html": [
       "<div>\n",
       "<style scoped>\n",
       "    .dataframe tbody tr th:only-of-type {\n",
       "        vertical-align: middle;\n",
       "    }\n",
       "\n",
       "    .dataframe tbody tr th {\n",
       "        vertical-align: top;\n",
       "    }\n",
       "\n",
       "    .dataframe thead th {\n",
       "        text-align: right;\n",
       "    }\n",
       "</style>\n",
       "<table border=\"1\" class=\"dataframe\">\n",
       "  <thead>\n",
       "    <tr style=\"text-align: right;\">\n",
       "      <th></th>\n",
       "      <th>index</th>\n",
       "      <th>asset_nm_new</th>\n",
       "    </tr>\n",
       "  </thead>\n",
       "  <tbody>\n",
       "    <tr>\n",
       "      <th>236</th>\n",
       "      <td>236</td>\n",
       "      <td>거미입니다만문제라도...</td>\n",
       "    </tr>\n",
       "  </tbody>\n",
       "</table>\n",
       "</div>"
      ],
      "text/plain": [
       "     index   asset_nm_new\n",
       "236    236  거미입니다만문제라도..."
      ]
     },
     "execution_count": 14,
     "metadata": {},
     "output_type": "execute_result"
    }
   ],
   "source": [
    "title_list[title_list['index'] == 236]"
   ]
  },
  {
   "cell_type": "code",
   "execution_count": null,
   "id": "d17a1545",
   "metadata": {},
   "outputs": [],
   "source": []
  }
 ],
 "metadata": {
  "kernelspec": {
   "display_name": "Python 3 (ipykernel)",
   "language": "python",
   "name": "python3"
  },
  "language_info": {
   "codemirror_mode": {
    "name": "ipython",
    "version": 3
   },
   "file_extension": ".py",
   "mimetype": "text/x-python",
   "name": "python",
   "nbconvert_exporter": "python",
   "pygments_lexer": "ipython3",
   "version": "3.10.9"
  }
 },
 "nbformat": 4,
 "nbformat_minor": 5
}
