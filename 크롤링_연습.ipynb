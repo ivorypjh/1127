{
 "cells": [
  {
   "cell_type": "markdown",
   "id": "cba8bb9e",
   "metadata": {},
   "source": [
    "## 공용 코드"
   ]
  },
  {
   "cell_type": "code",
   "execution_count": 2,
   "id": "1677cbf7",
   "metadata": {},
   "outputs": [],
   "source": [
    "# 파이썬\n",
    "# ≥3.5 필수\n",
    "import sys\n",
    "assert sys.version_info >= (3, 5)\n",
    "\n",
    "# 공통 모듈 임포트\n",
    "import numpy as np\n",
    "import pandas as pd\n",
    "import os\n",
    "\n",
    "# 깔끔한 그래프 출력을 위해 %matplotlib inline\n",
    "import matplotlib as mpl\n",
    "import matplotlib.pyplot as plt\n",
    "\n",
    "path = \"c:/Windows/Fonts/malgun.ttf\"\n",
    "\n",
    "from matplotlib import font_manager, rc\n",
    "\n",
    "import platform\n",
    "\n",
    "if platform.system() == 'Darwin':\n",
    "    rc('font', family='AppleGothic')\n",
    "elif platform.system() == 'Windows':\n",
    "    font_name = font_manager.FontProperties(fname=path).get_name()\n",
    "    rc('font', family=font_name)\n",
    "    \n",
    "mpl.rcParams['axes.unicode_minus'] = False\n",
    "# Jupyter Notebook의 출력을 소수점 이하 3자리로 제한\n",
    "%precision 3\n",
    "\n",
    "import sklearn\n",
    "assert sklearn.__version__ >= \"0.20\"\n",
    "\n",
    "# 시드 고정\n",
    "np.random.seed(21)"
   ]
  },
  {
   "cell_type": "markdown",
   "id": "bbde2321",
   "metadata": {},
   "source": [
    "## 데이터"
   ]
  },
  {
   "cell_type": "markdown",
   "id": "55dd6f5f",
   "metadata": {},
   "source": [
    "### 전처리"
   ]
  },
  {
   "cell_type": "code",
   "execution_count": 3,
   "id": "5afb2003",
   "metadata": {},
   "outputs": [],
   "source": [
    "origin_data = pd.read_csv('./final_vod.csv', encoding = 'cp949')"
   ]
  },
  {
   "cell_type": "code",
   "execution_count": 4,
   "id": "bd053117",
   "metadata": {},
   "outputs": [],
   "source": [
    "origin_data.drop(['Unnamed: 0'], axis = 1, inplace = True)"
   ]
  },
  {
   "cell_type": "code",
   "execution_count": 5,
   "id": "6aea4acf",
   "metadata": {},
   "outputs": [],
   "source": [
    "stop_list = ['...', '…', '.']\n",
    "\n",
    "series = []\n",
    "\n",
    "for _, item in origin_data.iterrows():\n",
    "    name = str(item['asset_nm_new'])\n",
    "    for stop in stop_list:\n",
    "        if stop in name:\n",
    "            name = name.replace(stop, \"\")\n",
    "    series.append(name)"
   ]
  },
  {
   "cell_type": "code",
   "execution_count": 6,
   "id": "f50db1e3",
   "metadata": {},
   "outputs": [],
   "source": [
    "origin_data['asset_nm_new'] = series"
   ]
  },
  {
   "cell_type": "code",
   "execution_count": 7,
   "id": "408bea02",
   "metadata": {},
   "outputs": [
    {
     "data": {
      "text/plain": [
       "0"
      ]
     },
     "execution_count": 7,
     "metadata": {},
     "output_type": "execute_result"
    }
   ],
   "source": [
    "origin_data['asset_nm_new'].isnull().sum()"
   ]
  },
  {
   "cell_type": "code",
   "execution_count": 8,
   "id": "18438b65",
   "metadata": {
    "scrolled": false
   },
   "outputs": [
    {
     "data": {
      "text/plain": [
       "최강배달꾼            229\n",
       "연인파트1            214\n",
       "런닝맨              201\n",
       "꼬리에꼬리를무는그날이야기    162\n",
       "심야괴담회            138\n",
       "                ... \n",
       "캐빈의호기심아파트2         1\n",
       "내거야!               1\n",
       "먼지괴물이찾아왔어요         1\n",
       "엄마는내마음도몰라요         1\n",
       "놀자!                1\n",
       "Name: asset_nm_new, Length: 966, dtype: int64"
      ]
     },
     "execution_count": 8,
     "metadata": {},
     "output_type": "execute_result"
    }
   ],
   "source": [
    "origin_data['asset_nm_new'].value_counts()"
   ]
  },
  {
   "cell_type": "code",
   "execution_count": 9,
   "id": "a398ba1d",
   "metadata": {},
   "outputs": [],
   "source": [
    "origin_data.to_csv(\"966.csv\", index = False)"
   ]
  },
  {
   "cell_type": "code",
   "execution_count": 10,
   "id": "59b94a2b",
   "metadata": {},
   "outputs": [],
   "source": [
    "origin_data = pd.read_csv('./final_vod.csv', encoding = 'cp949')\n",
    "origin_data.drop(['Unnamed: 0'], axis = 1, inplace = True)"
   ]
  },
  {
   "cell_type": "code",
   "execution_count": 11,
   "id": "365f46fa",
   "metadata": {
    "scrolled": true
   },
   "outputs": [],
   "source": [
    "origin_data['asset_nm_new'] = origin_data['asset_nm_new'].str.replace('…', '').replace('...', ).replace('.', '')"
   ]
  },
  {
   "cell_type": "code",
   "execution_count": 12,
   "id": "ab83e3f4",
   "metadata": {},
   "outputs": [
    {
     "data": {
      "text/plain": [
       "최강배달꾼            229\n",
       "연인파트1            214\n",
       "런닝맨              201\n",
       "꼬리에꼬리를무는그날이야기    162\n",
       "심야괴담회            138\n",
       "                ... \n",
       "캐빈의호기심아파트2         1\n",
       "내거야!               1\n",
       "먼지괴물이찾아왔어요         1\n",
       "엄마는내마음도몰라요         1\n",
       "놀자!                1\n",
       "Name: asset_nm_new, Length: 966, dtype: int64"
      ]
     },
     "execution_count": 12,
     "metadata": {},
     "output_type": "execute_result"
    }
   ],
   "source": [
    "origin_data['asset_nm_new'].value_counts()"
   ]
  },
  {
   "cell_type": "code",
   "execution_count": 13,
   "id": "bd598fab",
   "metadata": {},
   "outputs": [],
   "source": [
    "origin_data.to_csv(\"982.csv\", index = False)"
   ]
  },
  {
   "cell_type": "code",
   "execution_count": 14,
   "id": "cb79efe3",
   "metadata": {},
   "outputs": [],
   "source": [
    "for _, item in origin_data.iterrows():\n",
    "    if '...' in item['asset_nm_new']:\n",
    "        print(item['asset_nm_new'])"
   ]
  },
  {
   "cell_type": "code",
   "execution_count": 15,
   "id": "cce184ee",
   "metadata": {},
   "outputs": [],
   "source": [
    "for _, item in origin_data.iterrows():\n",
    "    if '…' in item['asset_nm_new']:\n",
    "        print(item['asset_nm_new'])"
   ]
  },
  {
   "cell_type": "code",
   "execution_count": 16,
   "id": "58a408df",
   "metadata": {},
   "outputs": [
    {
     "data": {
      "text/plain": [
       "최강배달꾼            229\n",
       "연인파트1            214\n",
       "런닝맨              201\n",
       "꼬리에꼬리를무는그날이야기    162\n",
       "심야괴담회            138\n",
       "                ... \n",
       "캐빈의호기심아파트2         1\n",
       "내거야!               1\n",
       "먼지괴물이찾아왔어요         1\n",
       "엄마는내마음도몰라요         1\n",
       "놀자!                1\n",
       "Name: asset_nm_new, Length: 966, dtype: int64"
      ]
     },
     "execution_count": 16,
     "metadata": {},
     "output_type": "execute_result"
    }
   ],
   "source": [
    "origin_data['asset_nm_new'].value_counts()"
   ]
  },
  {
   "cell_type": "code",
   "execution_count": 17,
   "id": "4075c949",
   "metadata": {},
   "outputs": [
    {
     "name": "stdout",
     "output_type": "stream",
     "text": [
      "0\n"
     ]
    }
   ],
   "source": [
    "count = 0\n",
    "for _, item in origin_data.iterrows():\n",
    "    if '.' in item['asset_nm_new']:\n",
    "        #print(item['asset_nm_new'])\n",
    "        count += 1\n",
    "        \n",
    "print(count) # 0 - 특수 기호가 삭제되어 있음"
   ]
  },
  {
   "cell_type": "code",
   "execution_count": 18,
   "id": "69b04368",
   "metadata": {},
   "outputs": [
    {
     "name": "stdout",
     "output_type": "stream",
     "text": [
      "최강배달꾼            229\n",
      "연인파트1            214\n",
      "런닝맨              201\n",
      "꼬리에꼬리를무는그날이야기    162\n",
      "심야괴담회            138\n",
      "                ... \n",
      "캐빈의호기심아파트2         1\n",
      "내거야!               1\n",
      "먼지괴물이찾아왔어요         1\n",
      "엄마는내마음도몰라요         1\n",
      "놀자!                1\n",
      "Name: asset_nm_new, Length: 966, dtype: int64\n"
     ]
    }
   ],
   "source": [
    "stop_list = ['...', '…', '.']\n",
    "\n",
    "series = []\n",
    "\n",
    "for _, item in origin_data.iterrows():\n",
    "    name = str(item['asset_nm_new'])\n",
    "    for stop in stop_list:\n",
    "        if stop in name:\n",
    "            name = name.replace(stop, \"\")\n",
    "    series.append(name)\n",
    "        \n",
    "origin_data['asset_nm_new'] = series\n",
    "print(origin_data['asset_nm_new'].value_counts())"
   ]
  },
  {
   "cell_type": "code",
   "execution_count": 19,
   "id": "5c3cc2aa",
   "metadata": {},
   "outputs": [],
   "source": [
    "for _, item in origin_data.iterrows():\n",
    "    if '.' in item['asset_nm_new']:\n",
    "        print(item['asset_nm_new'])"
   ]
  },
  {
   "cell_type": "code",
   "execution_count": 28,
   "id": "9d70b85e",
   "metadata": {},
   "outputs": [],
   "source": [
    "li = list(origin_data['asset_nm_new'].unique())"
   ]
  },
  {
   "cell_type": "code",
   "execution_count": null,
   "id": "e921a0cf",
   "metadata": {},
   "outputs": [],
   "source": [
    "for item in li:\n",
    "    print(item)"
   ]
  },
  {
   "cell_type": "code",
   "execution_count": 30,
   "id": "b2d6a2de",
   "metadata": {},
   "outputs": [
    {
     "data": {
      "text/plain": [
       "966"
      ]
     },
     "execution_count": 30,
     "metadata": {},
     "output_type": "execute_result"
    }
   ],
   "source": [
    "len(li)"
   ]
  }
 ],
 "metadata": {
  "kernelspec": {
   "display_name": "Python 3 (ipykernel)",
   "language": "python",
   "name": "python3"
  },
  "language_info": {
   "codemirror_mode": {
    "name": "ipython",
    "version": 3
   },
   "file_extension": ".py",
   "mimetype": "text/x-python",
   "name": "python",
   "nbconvert_exporter": "python",
   "pygments_lexer": "ipython3",
   "version": "3.10.9"
  }
 },
 "nbformat": 4,
 "nbformat_minor": 5
}
